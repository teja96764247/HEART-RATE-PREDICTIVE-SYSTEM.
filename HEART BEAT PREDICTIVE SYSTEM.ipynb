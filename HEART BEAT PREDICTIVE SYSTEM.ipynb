{
 "cells": [
  {
   "cell_type": "code",
   "execution_count": 109,
   "id": "7f70dd25",
   "metadata": {},
   "outputs": [],
   "source": [
    "import numpy as np\n",
    "import pandas as pd\n",
    "from matplotlib import pyplot as plt\n",
    "import warnings\n",
    "warnings.filterwarnings('ignore')"
   ]
  },
  {
   "cell_type": "code",
   "execution_count": 90,
   "id": "bc3db26e",
   "metadata": {},
   "outputs": [],
   "source": [
    "dataset1=pd.read_csv('time_domain_features_train.csv')#contains HR\n",
    "dataset2=pd.read_csv('heart_rate_non_linear_features_train.csv')\n",
    "dataset3=pd.read_csv('frequency_domain_features_train.csv')"
   ]
  },
  {
   "cell_type": "code",
   "execution_count": 91,
   "id": "49257139",
   "metadata": {},
   "outputs": [],
   "source": [
    "dataset1=dataset1.drop(columns=['uuid'])"
   ]
  },
  {
   "cell_type": "code",
   "execution_count": 92,
   "id": "1ba832aa",
   "metadata": {},
   "outputs": [],
   "source": [
    "dataset2=dataset2.drop(columns=['uuid'])"
   ]
  },
  {
   "cell_type": "code",
   "execution_count": 93,
   "id": "efc84483",
   "metadata": {},
   "outputs": [],
   "source": [
    "dataset3=dataset3.drop(columns=['uuid'])"
   ]
  },
  {
   "cell_type": "code",
   "execution_count": 94,
   "id": "8003923f",
   "metadata": {},
   "outputs": [],
   "source": [
    "dataset=dataset1.join(dataset2)"
   ]
  },
  {
   "cell_type": "code",
   "execution_count": 95,
   "id": "b9c98089",
   "metadata": {},
   "outputs": [],
   "source": [
    "dataset=dataset.join(dataset3)"
   ]
  },
  {
   "cell_type": "code",
   "execution_count": 96,
   "id": "14cdd353",
   "metadata": {},
   "outputs": [
    {
     "data": {
      "text/plain": [
       "no stress        200082\n",
       "interruption     105150\n",
       "time pressure     64057\n",
       "Name: condition, dtype: int64"
      ]
     },
     "execution_count": 96,
     "metadata": {},
     "output_type": "execute_result"
    }
   ],
   "source": [
    "dataset['condition'].value_counts()"
   ]
  },
  {
   "cell_type": "code",
   "execution_count": 97,
   "id": "eda8f195",
   "metadata": {},
   "outputs": [],
   "source": [
    "from sklearn.preprocessing import LabelEncoder\n",
    "le = LabelEncoder()\n",
    "dataset['condition'] = le.fit_transform(dataset['condition'])"
   ]
  },
  {
   "cell_type": "code",
   "execution_count": 98,
   "id": "5593ad5f",
   "metadata": {},
   "outputs": [
    {
     "data": {
      "text/plain": [
       "1    200082\n",
       "0    105150\n",
       "2     64057\n",
       "Name: condition, dtype: int64"
      ]
     },
     "execution_count": 98,
     "metadata": {},
     "output_type": "execute_result"
    }
   ],
   "source": [
    "dataset['condition'].value_counts()"
   ]
  },
  {
   "cell_type": "code",
   "execution_count": 99,
   "id": "56b0a5c9",
   "metadata": {},
   "outputs": [],
   "source": [
    "x=dataset.drop(['HR'],axis=1)\n",
    "y=dataset['HR']"
   ]
  },
  {
   "cell_type": "code",
   "execution_count": 100,
   "id": "81ad1c66",
   "metadata": {},
   "outputs": [
    {
     "data": {
      "text/plain": [
       "array([[ 0.30904143,  0.08916087,  0.41002947, ...,  0.26066125,\n",
       "        -0.14121793, -0.67275865],\n",
       "       [ 0.74456201,  0.80404558, -0.36353616, ..., -0.09300462,\n",
       "         0.5856082 , -0.92307306],\n",
       "       [ 0.41359844,  0.49153993, -0.32230664, ..., -0.25970787,\n",
       "        -0.06012474, -0.76971081],\n",
       "       ...,\n",
       "       [ 1.43534642,  1.38302122, -0.18210442, ...,  0.59582409,\n",
       "         1.21479264, -0.94848808],\n",
       "       [-0.38944985, -0.29025121, -0.40072444, ..., -0.13274575,\n",
       "        -0.24550677, -0.24349624],\n",
       "       [-0.25858914, -0.20244055, -0.5401557 , ..., -0.0041926 ,\n",
       "        -0.24357754, -0.26188235]])"
      ]
     },
     "execution_count": 100,
     "metadata": {},
     "output_type": "execute_result"
    }
   ],
   "source": [
    "from sklearn.preprocessing import StandardScaler\n",
    "sc=StandardScaler()\n",
    "sc.fit_transform(x,y)"
   ]
  },
  {
   "cell_type": "code",
   "execution_count": 101,
   "id": "4845b913",
   "metadata": {},
   "outputs": [
    {
     "data": {
      "text/html": [
       "<div>\n",
       "<style scoped>\n",
       "    .dataframe tbody tr th:only-of-type {\n",
       "        vertical-align: middle;\n",
       "    }\n",
       "\n",
       "    .dataframe tbody tr th {\n",
       "        vertical-align: top;\n",
       "    }\n",
       "\n",
       "    .dataframe thead th {\n",
       "        text-align: right;\n",
       "    }\n",
       "</style>\n",
       "<table border=\"1\" class=\"dataframe\">\n",
       "  <thead>\n",
       "    <tr style=\"text-align: right;\">\n",
       "      <th></th>\n",
       "      <th>MEAN_RR</th>\n",
       "      <th>MEDIAN_RR</th>\n",
       "      <th>SDRR</th>\n",
       "      <th>RMSSD</th>\n",
       "      <th>SDSD</th>\n",
       "      <th>SDRR_RMSSD</th>\n",
       "      <th>pNN25</th>\n",
       "      <th>pNN50</th>\n",
       "      <th>KURT</th>\n",
       "      <th>SKEW</th>\n",
       "      <th>...</th>\n",
       "      <th>VLF_PCT</th>\n",
       "      <th>LF</th>\n",
       "      <th>LF_PCT</th>\n",
       "      <th>LF_NU</th>\n",
       "      <th>HF</th>\n",
       "      <th>HF_PCT</th>\n",
       "      <th>HF_NU</th>\n",
       "      <th>TP</th>\n",
       "      <th>LF_HF</th>\n",
       "      <th>HF_LF</th>\n",
       "    </tr>\n",
       "  </thead>\n",
       "  <tbody>\n",
       "    <tr>\n",
       "      <th>0</th>\n",
       "      <td>885.157845</td>\n",
       "      <td>853.763730</td>\n",
       "      <td>140.972741</td>\n",
       "      <td>15.554505</td>\n",
       "      <td>15.553371</td>\n",
       "      <td>9.063146</td>\n",
       "      <td>11.133333</td>\n",
       "      <td>0.533333</td>\n",
       "      <td>-0.856554</td>\n",
       "      <td>0.335218</td>\n",
       "      <td>...</td>\n",
       "      <td>72.203287</td>\n",
       "      <td>1009.249419</td>\n",
       "      <td>27.375666</td>\n",
       "      <td>98.485263</td>\n",
       "      <td>15.522603</td>\n",
       "      <td>0.421047</td>\n",
       "      <td>1.514737</td>\n",
       "      <td>3686.666157</td>\n",
       "      <td>65.018055</td>\n",
       "      <td>0.015380</td>\n",
       "    </tr>\n",
       "    <tr>\n",
       "      <th>1</th>\n",
       "      <td>939.425371</td>\n",
       "      <td>948.357865</td>\n",
       "      <td>81.317742</td>\n",
       "      <td>12.964439</td>\n",
       "      <td>12.964195</td>\n",
       "      <td>6.272369</td>\n",
       "      <td>5.600000</td>\n",
       "      <td>0.000000</td>\n",
       "      <td>-0.408190</td>\n",
       "      <td>-0.155286</td>\n",
       "      <td>...</td>\n",
       "      <td>76.975728</td>\n",
       "      <td>690.113275</td>\n",
       "      <td>22.954139</td>\n",
       "      <td>99.695397</td>\n",
       "      <td>2.108525</td>\n",
       "      <td>0.070133</td>\n",
       "      <td>0.304603</td>\n",
       "      <td>3006.487251</td>\n",
       "      <td>327.296635</td>\n",
       "      <td>0.003055</td>\n",
       "    </tr>\n",
       "    <tr>\n",
       "      <th>2</th>\n",
       "      <td>898.186047</td>\n",
       "      <td>907.006860</td>\n",
       "      <td>84.497236</td>\n",
       "      <td>16.305279</td>\n",
       "      <td>16.305274</td>\n",
       "      <td>5.182201</td>\n",
       "      <td>13.066667</td>\n",
       "      <td>0.200000</td>\n",
       "      <td>0.351789</td>\n",
       "      <td>-0.656813</td>\n",
       "      <td>...</td>\n",
       "      <td>51.152225</td>\n",
       "      <td>1298.222619</td>\n",
       "      <td>48.335104</td>\n",
       "      <td>98.950472</td>\n",
       "      <td>13.769729</td>\n",
       "      <td>0.512671</td>\n",
       "      <td>1.049528</td>\n",
       "      <td>2685.879461</td>\n",
       "      <td>94.280910</td>\n",
       "      <td>0.010607</td>\n",
       "    </tr>\n",
       "    <tr>\n",
       "      <th>3</th>\n",
       "      <td>881.757865</td>\n",
       "      <td>893.460030</td>\n",
       "      <td>90.370537</td>\n",
       "      <td>15.720468</td>\n",
       "      <td>15.720068</td>\n",
       "      <td>5.748591</td>\n",
       "      <td>11.800000</td>\n",
       "      <td>0.133333</td>\n",
       "      <td>-0.504947</td>\n",
       "      <td>-0.386138</td>\n",
       "      <td>...</td>\n",
       "      <td>70.180308</td>\n",
       "      <td>1005.981659</td>\n",
       "      <td>29.290305</td>\n",
       "      <td>98.224706</td>\n",
       "      <td>18.181913</td>\n",
       "      <td>0.529387</td>\n",
       "      <td>1.775294</td>\n",
       "      <td>3434.520980</td>\n",
       "      <td>55.328701</td>\n",
       "      <td>0.018074</td>\n",
       "    </tr>\n",
       "    <tr>\n",
       "      <th>4</th>\n",
       "      <td>809.625331</td>\n",
       "      <td>811.184865</td>\n",
       "      <td>62.766242</td>\n",
       "      <td>19.213819</td>\n",
       "      <td>19.213657</td>\n",
       "      <td>3.266724</td>\n",
       "      <td>20.200000</td>\n",
       "      <td>0.200000</td>\n",
       "      <td>-0.548408</td>\n",
       "      <td>-0.154252</td>\n",
       "      <td>...</td>\n",
       "      <td>43.918366</td>\n",
       "      <td>1421.782051</td>\n",
       "      <td>54.242160</td>\n",
       "      <td>96.720007</td>\n",
       "      <td>48.215822</td>\n",
       "      <td>1.839473</td>\n",
       "      <td>3.279993</td>\n",
       "      <td>2621.175204</td>\n",
       "      <td>29.487873</td>\n",
       "      <td>0.033912</td>\n",
       "    </tr>\n",
       "    <tr>\n",
       "      <th>...</th>\n",
       "      <td>...</td>\n",
       "      <td>...</td>\n",
       "      <td>...</td>\n",
       "      <td>...</td>\n",
       "      <td>...</td>\n",
       "      <td>...</td>\n",
       "      <td>...</td>\n",
       "      <td>...</td>\n",
       "      <td>...</td>\n",
       "      <td>...</td>\n",
       "      <td>...</td>\n",
       "      <td>...</td>\n",
       "      <td>...</td>\n",
       "      <td>...</td>\n",
       "      <td>...</td>\n",
       "      <td>...</td>\n",
       "      <td>...</td>\n",
       "      <td>...</td>\n",
       "      <td>...</td>\n",
       "      <td>...</td>\n",
       "      <td>...</td>\n",
       "    </tr>\n",
       "    <tr>\n",
       "      <th>369284</th>\n",
       "      <td>721.396910</td>\n",
       "      <td>721.533965</td>\n",
       "      <td>36.377559</td>\n",
       "      <td>9.609941</td>\n",
       "      <td>9.609936</td>\n",
       "      <td>3.785409</td>\n",
       "      <td>0.933333</td>\n",
       "      <td>0.000000</td>\n",
       "      <td>1.007321</td>\n",
       "      <td>0.075965</td>\n",
       "      <td>...</td>\n",
       "      <td>45.893349</td>\n",
       "      <td>313.115284</td>\n",
       "      <td>48.219676</td>\n",
       "      <td>89.119683</td>\n",
       "      <td>38.227175</td>\n",
       "      <td>5.886975</td>\n",
       "      <td>10.880317</td>\n",
       "      <td>649.351702</td>\n",
       "      <td>8.190908</td>\n",
       "      <td>0.122087</td>\n",
       "    </tr>\n",
       "    <tr>\n",
       "      <th>369285</th>\n",
       "      <td>984.266492</td>\n",
       "      <td>978.622945</td>\n",
       "      <td>74.918433</td>\n",
       "      <td>13.762274</td>\n",
       "      <td>13.761705</td>\n",
       "      <td>5.443754</td>\n",
       "      <td>6.333333</td>\n",
       "      <td>0.200000</td>\n",
       "      <td>0.248964</td>\n",
       "      <td>0.167716</td>\n",
       "      <td>...</td>\n",
       "      <td>68.405858</td>\n",
       "      <td>717.285030</td>\n",
       "      <td>31.481178</td>\n",
       "      <td>99.642453</td>\n",
       "      <td>2.573834</td>\n",
       "      <td>0.112964</td>\n",
       "      <td>0.357547</td>\n",
       "      <td>2278.456746</td>\n",
       "      <td>278.683532</td>\n",
       "      <td>0.003588</td>\n",
       "    </tr>\n",
       "    <tr>\n",
       "      <th>369286</th>\n",
       "      <td>1025.499743</td>\n",
       "      <td>1024.968400</td>\n",
       "      <td>95.309200</td>\n",
       "      <td>23.051254</td>\n",
       "      <td>23.050395</td>\n",
       "      <td>4.134664</td>\n",
       "      <td>30.400000</td>\n",
       "      <td>2.066667</td>\n",
       "      <td>-0.429686</td>\n",
       "      <td>-0.075321</td>\n",
       "      <td>...</td>\n",
       "      <td>45.030641</td>\n",
       "      <td>2376.578392</td>\n",
       "      <td>54.870376</td>\n",
       "      <td>99.819930</td>\n",
       "      <td>4.287216</td>\n",
       "      <td>0.098983</td>\n",
       "      <td>0.180070</td>\n",
       "      <td>4331.259564</td>\n",
       "      <td>554.340761</td>\n",
       "      <td>0.001804</td>\n",
       "    </tr>\n",
       "    <tr>\n",
       "      <th>369287</th>\n",
       "      <td>798.123167</td>\n",
       "      <td>803.559610</td>\n",
       "      <td>78.449897</td>\n",
       "      <td>16.736686</td>\n",
       "      <td>16.736657</td>\n",
       "      <td>4.687302</td>\n",
       "      <td>10.000000</td>\n",
       "      <td>1.466667</td>\n",
       "      <td>0.600389</td>\n",
       "      <td>-0.634762</td>\n",
       "      <td>...</td>\n",
       "      <td>54.821185</td>\n",
       "      <td>1277.128490</td>\n",
       "      <td>43.587168</td>\n",
       "      <td>96.477005</td>\n",
       "      <td>46.636158</td>\n",
       "      <td>1.591647</td>\n",
       "      <td>3.522995</td>\n",
       "      <td>2930.056129</td>\n",
       "      <td>27.384942</td>\n",
       "      <td>0.036516</td>\n",
       "    </tr>\n",
       "    <tr>\n",
       "      <th>369288</th>\n",
       "      <td>814.428911</td>\n",
       "      <td>815.178790</td>\n",
       "      <td>67.697387</td>\n",
       "      <td>20.649551</td>\n",
       "      <td>20.649546</td>\n",
       "      <td>3.278395</td>\n",
       "      <td>23.400000</td>\n",
       "      <td>0.533333</td>\n",
       "      <td>-0.397950</td>\n",
       "      <td>-0.191514</td>\n",
       "      <td>...</td>\n",
       "      <td>44.537686</td>\n",
       "      <td>1701.604030</td>\n",
       "      <td>53.555155</td>\n",
       "      <td>96.561342</td>\n",
       "      <td>60.596026</td>\n",
       "      <td>1.907159</td>\n",
       "      <td>3.438658</td>\n",
       "      <td>3177.292709</td>\n",
       "      <td>28.081116</td>\n",
       "      <td>0.035611</td>\n",
       "    </tr>\n",
       "  </tbody>\n",
       "</table>\n",
       "<p>369289 rows × 35 columns</p>\n",
       "</div>"
      ],
      "text/plain": [
       "            MEAN_RR    MEDIAN_RR        SDRR      RMSSD       SDSD  \\\n",
       "0        885.157845   853.763730  140.972741  15.554505  15.553371   \n",
       "1        939.425371   948.357865   81.317742  12.964439  12.964195   \n",
       "2        898.186047   907.006860   84.497236  16.305279  16.305274   \n",
       "3        881.757865   893.460030   90.370537  15.720468  15.720068   \n",
       "4        809.625331   811.184865   62.766242  19.213819  19.213657   \n",
       "...             ...          ...         ...        ...        ...   \n",
       "369284   721.396910   721.533965   36.377559   9.609941   9.609936   \n",
       "369285   984.266492   978.622945   74.918433  13.762274  13.761705   \n",
       "369286  1025.499743  1024.968400   95.309200  23.051254  23.050395   \n",
       "369287   798.123167   803.559610   78.449897  16.736686  16.736657   \n",
       "369288   814.428911   815.178790   67.697387  20.649551  20.649546   \n",
       "\n",
       "        SDRR_RMSSD      pNN25     pNN50      KURT      SKEW  ...    VLF_PCT  \\\n",
       "0         9.063146  11.133333  0.533333 -0.856554  0.335218  ...  72.203287   \n",
       "1         6.272369   5.600000  0.000000 -0.408190 -0.155286  ...  76.975728   \n",
       "2         5.182201  13.066667  0.200000  0.351789 -0.656813  ...  51.152225   \n",
       "3         5.748591  11.800000  0.133333 -0.504947 -0.386138  ...  70.180308   \n",
       "4         3.266724  20.200000  0.200000 -0.548408 -0.154252  ...  43.918366   \n",
       "...            ...        ...       ...       ...       ...  ...        ...   \n",
       "369284    3.785409   0.933333  0.000000  1.007321  0.075965  ...  45.893349   \n",
       "369285    5.443754   6.333333  0.200000  0.248964  0.167716  ...  68.405858   \n",
       "369286    4.134664  30.400000  2.066667 -0.429686 -0.075321  ...  45.030641   \n",
       "369287    4.687302  10.000000  1.466667  0.600389 -0.634762  ...  54.821185   \n",
       "369288    3.278395  23.400000  0.533333 -0.397950 -0.191514  ...  44.537686   \n",
       "\n",
       "                 LF     LF_PCT      LF_NU         HF    HF_PCT      HF_NU  \\\n",
       "0       1009.249419  27.375666  98.485263  15.522603  0.421047   1.514737   \n",
       "1        690.113275  22.954139  99.695397   2.108525  0.070133   0.304603   \n",
       "2       1298.222619  48.335104  98.950472  13.769729  0.512671   1.049528   \n",
       "3       1005.981659  29.290305  98.224706  18.181913  0.529387   1.775294   \n",
       "4       1421.782051  54.242160  96.720007  48.215822  1.839473   3.279993   \n",
       "...             ...        ...        ...        ...       ...        ...   \n",
       "369284   313.115284  48.219676  89.119683  38.227175  5.886975  10.880317   \n",
       "369285   717.285030  31.481178  99.642453   2.573834  0.112964   0.357547   \n",
       "369286  2376.578392  54.870376  99.819930   4.287216  0.098983   0.180070   \n",
       "369287  1277.128490  43.587168  96.477005  46.636158  1.591647   3.522995   \n",
       "369288  1701.604030  53.555155  96.561342  60.596026  1.907159   3.438658   \n",
       "\n",
       "                 TP       LF_HF     HF_LF  \n",
       "0       3686.666157   65.018055  0.015380  \n",
       "1       3006.487251  327.296635  0.003055  \n",
       "2       2685.879461   94.280910  0.010607  \n",
       "3       3434.520980   55.328701  0.018074  \n",
       "4       2621.175204   29.487873  0.033912  \n",
       "...             ...         ...       ...  \n",
       "369284   649.351702    8.190908  0.122087  \n",
       "369285  2278.456746  278.683532  0.003588  \n",
       "369286  4331.259564  554.340761  0.001804  \n",
       "369287  2930.056129   27.384942  0.036516  \n",
       "369288  3177.292709   28.081116  0.035611  \n",
       "\n",
       "[369289 rows x 35 columns]"
      ]
     },
     "execution_count": 101,
     "metadata": {},
     "output_type": "execute_result"
    }
   ],
   "source": [
    "x"
   ]
  },
  {
   "cell_type": "code",
   "execution_count": 102,
   "id": "c34c2fd8",
   "metadata": {},
   "outputs": [
    {
     "data": {
      "text/plain": [
       "0         69.499952\n",
       "1         64.363150\n",
       "2         67.450066\n",
       "3         68.809562\n",
       "4         74.565728\n",
       "            ...    \n",
       "369284    83.384647\n",
       "369285    61.314243\n",
       "369286    59.028594\n",
       "369287    75.978628\n",
       "369288    74.197905\n",
       "Name: HR, Length: 369289, dtype: float64"
      ]
     },
     "execution_count": 102,
     "metadata": {},
     "output_type": "execute_result"
    }
   ],
   "source": [
    "y"
   ]
  },
  {
   "cell_type": "code",
   "execution_count": 103,
   "id": "4808ac7c",
   "metadata": {},
   "outputs": [],
   "source": [
    "from sklearn.model_selection import train_test_split\n",
    "x_train,x_test,y_train,y_test=train_test_split(x,y,test_size=0.2,random_state=2)"
   ]
  },
  {
   "cell_type": "code",
   "execution_count": 104,
   "id": "cbfc29e0",
   "metadata": {},
   "outputs": [
    {
     "data": {
      "text/plain": [
       "LinearRegression()"
      ]
     },
     "execution_count": 104,
     "metadata": {},
     "output_type": "execute_result"
    }
   ],
   "source": [
    "from sklearn.linear_model import LinearRegression\n",
    "model=LinearRegression()\n",
    "model.fit(x_train,y_train)"
   ]
  },
  {
   "cell_type": "code",
   "execution_count": 105,
   "id": "474e6d6b",
   "metadata": {},
   "outputs": [
    {
     "data": {
      "text/plain": [
       "array([66.46600699, 62.67938101, 75.35595614, ..., 65.35716695,\n",
       "       80.20207095, 78.09053975])"
      ]
     },
     "execution_count": 105,
     "metadata": {},
     "output_type": "execute_result"
    }
   ],
   "source": [
    "y_pred=model.predict(x_train)\n",
    "y_pred"
   ]
  },
  {
   "cell_type": "code",
   "execution_count": 106,
   "id": "284e7edf",
   "metadata": {},
   "outputs": [
    {
     "data": {
      "text/plain": [
       "0.9809260304916535"
      ]
     },
     "execution_count": 106,
     "metadata": {},
     "output_type": "execute_result"
    }
   ],
   "source": [
    "from sklearn.metrics import r2_score\n",
    "r2score=r2_score(y_train,y_pred)\n",
    "r2score"
   ]
  },
  {
   "cell_type": "code",
   "execution_count": 115,
   "id": "341c236e",
   "metadata": {},
   "outputs": [
    {
     "name": "stdout",
     "output_type": "stream",
     "text": [
      "The HEART RATE of the person is:  70.05281949043274\n"
     ]
    }
   ],
   "source": [
    "#input taking from user...........\n",
    "input_data=(885.1578445866667,853.7637300000001,140.97274123567058,15.55450455844723,15.55337133749991,9.06314570843159,11.13333333333333,0.5333333333333333,-0.8565537973286643,0.3352179892831136,-0.0002029859212581172,-0.00017922272066853482,0.01707994898178606,0.007968840052532844,0.007968837016296634,2.1433419254483983,-0.8565537973286643,0.3352179892831136,11.00156458989638,199.06178216717808,2.139754004084331,1.16348520443103,2,0,2661.894135631906,72.20328671413414,1009.249419006743,27.375666143581746,98.48526285120838,15.52260250018865,0.4210471422841141,1.514737148791649,3686.666157138838,65.0180547362775,0.015380343260901031)\n",
    "input_array=np.asarray(input_data)\n",
    "input_reshape=input_array.reshape(1,-1)\n",
    "prediction=model.predict(input_reshape)\n",
    "print('The HEART RATE of the person is: ',prediction[0])"
   ]
  },
  {
   "cell_type": "code",
   "execution_count": 111,
   "id": "46cc46ac",
   "metadata": {},
   "outputs": [],
   "source": [
    "import pickle"
   ]
  },
  {
   "cell_type": "code",
   "execution_count": 113,
   "id": "1ec57bbb",
   "metadata": {},
   "outputs": [],
   "source": [
    "filename='heart_beat.sav'\n",
    "pickle.dump(model,open(filename,'wb'))\n",
    "loaded_model=pickle.load(open('heart_beat.sav','rb'))"
   ]
  },
  {
   "cell_type": "code",
   "execution_count": 114,
   "id": "7600e3e5",
   "metadata": {},
   "outputs": [
    {
     "data": {
      "text/plain": [
       "Index(['MEAN_RR', 'MEDIAN_RR', 'SDRR', 'RMSSD', 'SDSD', 'SDRR_RMSSD', 'HR',\n",
       "       'pNN25', 'pNN50', 'KURT', 'SKEW', 'MEAN_REL_RR', 'MEDIAN_REL_RR',\n",
       "       'SDRR_REL_RR', 'RMSSD_REL_RR', 'SDSD_REL_RR', 'SDRR_RMSSD_REL_RR',\n",
       "       'KURT_REL_RR', 'SKEW_REL_RR', 'SD1', 'SD2', 'sampen', 'higuci',\n",
       "       'datasetId', 'condition', 'VLF', 'VLF_PCT', 'LF', 'LF_PCT', 'LF_NU',\n",
       "       'HF', 'HF_PCT', 'HF_NU', 'TP', 'LF_HF', 'HF_LF'],\n",
       "      dtype='object')"
      ]
     },
     "execution_count": 114,
     "metadata": {},
     "output_type": "execute_result"
    }
   ],
   "source": [
    "dataset.columns"
   ]
  },
  {
   "cell_type": "code",
   "execution_count": null,
   "id": "95fc1373",
   "metadata": {},
   "outputs": [],
   "source": []
  }
 ],
 "metadata": {
  "kernelspec": {
   "display_name": "Python 3 (ipykernel)",
   "language": "python",
   "name": "python3"
  },
  "language_info": {
   "codemirror_mode": {
    "name": "ipython",
    "version": 3
   },
   "file_extension": ".py",
   "mimetype": "text/x-python",
   "name": "python",
   "nbconvert_exporter": "python",
   "pygments_lexer": "ipython3",
   "version": "3.9.12"
  }
 },
 "nbformat": 4,
 "nbformat_minor": 5
}
